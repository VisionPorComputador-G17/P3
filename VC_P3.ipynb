{
 "cells": [
  {
   "cell_type": "markdown",
   "metadata": {},
   "source": [
    "## Visión por Computador\n",
    "\n",
    "**Grupo 17**:\n",
    "\n",
    "- Sara Expósito Suárez\n",
    "- Alejandro Padrón Ossorio"
   ]
  },
  {
   "cell_type": "markdown",
   "metadata": {},
   "source": [
    "Paquetes necesarios"
   ]
  },
  {
   "cell_type": "code",
   "execution_count": 3,
   "metadata": {},
   "outputs": [],
   "source": [
    "import cv2  \n",
    "import numpy as np\n",
    "import matplotlib.pyplot as plt"
   ]
  },
  {
   "cell_type": "markdown",
   "metadata": {},
   "source": [
    "TAREA: Captura una o varias imágenes con monedas no solapadas. Tras visualizar la imagen, identifica de forma interactiva (por ejemplo haciendo clic en la imagen) una moneda de un valor determinado en la imagen (por ejemplo de 1€). Tras ello, la tarea se resuelve mostrando por pantalla el número de monedas y la cantidad de dinero presentes en la imagen. No hay restricciones sobre utilizar medidas geométricas o de color. ¿Qué problemas han observado?\n",
    "\n",
    "Nota: Para establecer la correspondencia entre píxeles y milímetros, comentar que la moneda de un euro tiene un diámetro de 23.25 mm. la de 50 céntimos de 24.35, la de 20 céntimos de 22.25, etc. \n",
    "\n",
    "Extras: Considerar que la imagen pueda contener objetos que no son monedas y/o haya solape entre las monedas. Demo en vivo.\n",
    "\n"
   ]
  },
  {
   "cell_type": "code",
   "execution_count": 4,
   "metadata": {},
   "outputs": [
    {
     "ename": "NameError",
     "evalue": "name 'ratio' is not defined",
     "output_type": "error",
     "traceback": [
      "\u001b[1;31m---------------------------------------------------------------------------\u001b[0m",
      "\u001b[1;31mNameError\u001b[0m                                 Traceback (most recent call last)",
      "Cell \u001b[1;32mIn[4], line 77\u001b[0m\n\u001b[0;32m     74\u001b[0m color \u001b[38;5;241m=\u001b[39m classify_color_hsv(avg_color)\n\u001b[0;32m     76\u001b[0m \u001b[38;5;28;01mfor\u001b[39;00m coin_diameter, coin_value, coin_color \u001b[38;5;129;01min\u001b[39;00m \u001b[38;5;28mzip\u001b[39m(coins_diameter, coins_value, coins_color):\n\u001b[1;32m---> 77\u001b[0m     \u001b[38;5;28;01mif\u001b[39;00m \u001b[38;5;28mabs\u001b[39m(diameter \u001b[38;5;241m-\u001b[39m ratio \u001b[38;5;241m*\u001b[39m coin_diameter) \u001b[38;5;241m<\u001b[39m tolerance:\n\u001b[0;32m     78\u001b[0m         money_amount \u001b[38;5;241m+\u001b[39m\u001b[38;5;241m=\u001b[39m coin_value\n\u001b[0;32m     79\u001b[0m         detected \u001b[38;5;241m=\u001b[39m \u001b[38;5;28;01mTrue\u001b[39;00m\n",
      "\u001b[1;31mNameError\u001b[0m: name 'ratio' is not defined"
     ]
    },
    {
     "ename": "",
     "evalue": "",
     "output_type": "error",
     "traceback": [
      "\u001b[1;31mThe Kernel crashed while executing code in the current cell or a previous cell. \n",
      "\u001b[1;31mPlease review the code in the cell(s) to identify a possible cause of the failure. \n",
      "\u001b[1;31mClick <a href='https://aka.ms/vscodeJupyterKernelCrash'>here</a> for more info. \n",
      "\u001b[1;31mView Jupyter <a href='command:jupyter.viewOutput'>log</a> for further details."
     ]
    }
   ],
   "source": [
    "img = cv2.imread('Monedas4.jpg')\n",
    "img_rgb = cv2.cvtColor(img, cv2.COLOR_BGR2RGB)\n",
    "img_hsv = cv2.cvtColor(img_rgb, cv2.COLOR_RGB2HSV)\n",
    "img_gris = cv2.cvtColor(img_rgb, cv2.COLOR_RGB2GRAY)\n",
    "\n",
    "img_ggris = cv2.GaussianBlur(img_gris, (7, 7), 0)\n",
    "\n",
    "th,img_th = cv2.threshold(img_ggris,0,255,cv2.THRESH_BINARY_INV+cv2.THRESH_OTSU)\n",
    "\n",
    "contornos, hierarchy = cv2.findContours(img_th, cv2.RETR_EXTERNAL, cv2.CHAIN_APPROX_SIMPLE)\n",
    "\n",
    "cv2.drawContours(img_rgb, contornos, -1, (0, 255, 0), 3)\n",
    "\n",
    "selected_radius = None\n",
    "\n",
    "def select_coin(event, x, y, flags, param):\n",
    "    global selected_radius\n",
    "    if event == cv2.EVENT_LBUTTONDOWN:\n",
    "        for c in contornos:\n",
    "            (cx, cy), radio = cv2.minEnclosingCircle(c)\n",
    "            if cv2.pointPolygonTest(c, (x, y), False) >= 0:\n",
    "                selected_radius = radio\n",
    "                break\n",
    "\n",
    "#cv2.imshow(\"Selecciona la moneda de 1 euro\", img)\n",
    "img_resized = cv2.resize(img_th, (img_th.shape[1]//2, img_th.shape[0]//2))\n",
    "cv2.imshow(\"Selecciona la moneda de 1 euro\", img_resized)\n",
    "cv2.setMouseCallback(\"Selecciona la moneda de 1 euro\", select_coin)\n",
    "\n",
    "while selected_radius is None:\n",
    "    if cv2.waitKey(10) == 27:\n",
    "        break\n",
    "\n",
    "coins_diameter = [16.26, 18.75, 21.25, 19.75, 22.25, 24.25, 23.25, 25.75]\n",
    "coins_value = [0.01, 0.02, 0.05, 0.1, 0.2, 0.5, 1, 2]\n",
    "coins_color = [\"copper\", \"copper\", \"copper\", \"gold\", \"gold\", \"gold\", \"silver_gold\", \"silver_gold\"]\n",
    "\n",
    "if selected_radius:\n",
    "    ratio = selected_radius * 2 / coins_diameter[6]\n",
    "\n",
    "money_amount = 0\n",
    "tolerance = 3\n",
    "\n",
    "def get_avg_color(contornos, img_hsv):\n",
    "    mask = np.zeros(img_hsv.shape[:2], dtype=np.uint8)\n",
    "    cv2.drawContours(mask, contornos, -1, 255, -1)\n",
    "    mean_value = cv2.mean(img_hsv, mask=mask)\n",
    "    return mean_value[:3]\n",
    "\n",
    "def classify_color_hsv(avg_color):\n",
    "    h, s, v = avg_color\n",
    "    \n",
    "    if 10 < h < 20 and s > 100:\n",
    "        return \"copper\"\n",
    "    elif 20 < h < 30 and s > 100:\n",
    "        return \"gold\"\n",
    "    \n",
    "    return \"silver_gold\"\n",
    "\n",
    "coins_count = 0\n",
    "\n",
    "for c in contornos:\n",
    "    area = cv2.contourArea(c)\n",
    "    if area > 10:\n",
    "        (cx, cy), radio = cv2.minEnclosingCircle(c)\n",
    "        coins_count += 1\n",
    "    else:\n",
    "        continue\n",
    "\n",
    "    diameter = radio * 2\n",
    "    detected = False\n",
    "    \n",
    "    avg_color = get_avg_color(c, img_hsv)\n",
    "    color = classify_color_hsv(avg_color)\n",
    "    \n",
    "    for coin_diameter, coin_value, coin_color in zip(coins_diameter, coins_value, coins_color):\n",
    "        if abs(diameter - ratio * coin_diameter) < tolerance:\n",
    "            money_amount += coin_value\n",
    "            detected = True\n",
    "            break\n",
    "\n",
    "    if not detected:\n",
    "        money_amount += coins_value[-1]\n",
    "\n",
    "print(f\"En la imagen hay {coins_count} monedas que suman un total de {money_amount}€\")\n",
    "plt.imshow(img_rgb)\n",
    "plt.axis(\"off\")\n",
    "\n",
    "cv2.destroyAllWindows()"
   ]
  },
  {
   "cell_type": "markdown",
   "metadata": {},
   "source": [
    "TAREA: Las tres imágenes cargadas en la celda inicial, han sido extraidas de las imágenes de mayor tamaño presentes en la carpeta. La tarea consiste en extraer características (geométricas y/o visuales) e identificar patrones que permitan distinguir las partículas de cada una de las tres clases, evaluando los aciertos y fallos con las imágenes completas considerando las métricas mostradas y la matriz de confusión. La matriz de confusión, muestra para cada clase el número de muestras que se clasifican correctamente de dicha clase, y el número de muestras que se clasifican incorrectamente por cada una de las otras dos clases.\n",
    "\n",
    "En el trabajo [SMACC: A System for Microplastics Automatic Counting and Classification](https://doi.org/10.1109/ACCESS.2020.2970498), las características geométricas utilizadas fueron:\n",
    "\n",
    "- Área en píxeles\n",
    "- Perímetro en píxeles\n",
    "- Compacidad (relación entre el cuadrado del perímetro y el área de la partícula)\n",
    "- Relación del área de la partícula con la del contenedor\n",
    "- Relación del ancho y el alto del contenedor\n",
    "- Relación entre los ejes de la elipse ajustada\n",
    "- Definido el centroide, relación entre las distancias menor y mayor al contorno"
   ]
  },
  {
   "cell_type": "code",
   "execution_count": null,
   "metadata": {},
   "outputs": [],
   "source": [
    "#Carga imagen directamente en grises\n",
    "imgorig = cv2.imread('MPs.jpg', cv2.IMREAD_GRAYSCALE) \n",
    "\n",
    "img = cv2.GaussianBlur(imgorig,(5,5),0)\n",
    "\n",
    "#Umbralizados\n",
    "imth4 = cv2.adaptiveThreshold(img,255,cv2.ADAPTIVE_THRESH_GAUSSIAN_C,\\\n",
    "            cv2.THRESH_BINARY,11,2)\n",
    " \n",
    "# titles = ['Original', 'Fijo','Otsu th='+str(int(thotsu)),\n",
    "#             'Adaptivo promedio', 'Adaptivo Gaussiano']\n",
    "# images = [img, imth1, imth2, 255 - imth3, 255 - imth4]\n",
    "\n",
    "\n",
    "plt.imshow(255 - imth4, 'gray')\n",
    "# for i in range(5):\n",
    "#     plt.subplot(2,5,i+1),plt.imshow(images[i],'gray')\n",
    "#     plt.title(titles[i], fontsize=7)\n",
    "#     plt.xticks([]),plt.yticks([])\n",
    "\n",
    "#     #Obtiene únicamente los contornos externos\n",
    "#     if i>0:\n",
    "#         res,imth = cv2.threshold(images[i],120,255,cv2.THRESH_BINARY)\n",
    "#         contornos, hierarchy= cv2.findContours(imth, \n",
    "#         cv2.RETR_EXTERNAL , \n",
    "#         cv2.CHAIN_APPROX_SIMPLE)  \n",
    "#         img_cont = np.zeros(img.shape)\n",
    "#         cv2.drawContours(img_cont, contornos, -1, (255,255,255), -1)  \n",
    "#         plt.subplot(2,5,i+6),plt.imshow(img_cont,'gray')\n",
    "#         plt.xticks([]),plt.yticks([])\n",
    "plt.show()"
   ]
  }
 ],
 "metadata": {
  "kernelspec": {
   "display_name": "VC_P3",
   "language": "python",
   "name": "python3"
  },
  "language_info": {
   "codemirror_mode": {
    "name": "ipython",
    "version": 3
   },
   "file_extension": ".py",
   "mimetype": "text/x-python",
   "name": "python",
   "nbconvert_exporter": "python",
   "pygments_lexer": "ipython3",
   "version": "3.11.10"
  },
  "orig_nbformat": 4
 },
 "nbformat": 4,
 "nbformat_minor": 2
}
